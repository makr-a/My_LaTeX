{
 "cells": [
  {
   "cell_type": "markdown",
   "metadata": {},
   "source": [
    "# Data Analysis and Plotting in Python with Pandas\n",
    "\n",
    "## Preparational Notebook"
   ]
  },
  {
   "cell_type": "markdown",
   "metadata": {
    "version": "jun2"
   },
   "source": [
    "The _JSC Pandas_ introductory course will be held on May 27 and on Jun 2. You have been selected for **Jun 2**."
   ]
  },
  {
   "cell_type": "markdown",
   "metadata": {},
   "source": [
    "For a successful and concise course day, a few preparational steps on your side are necesssary.\n",
    "\n",
    "The course needs Python 3, and a somewhat-recent version of the Python packages [Pandas](https://pandas.pydata.org/), [matplotlib](https://matplotlib.org/), and [Seaborn](https://seaborn.pydata.org/). Please install them in case you don't have them already.\n",
    "\n",
    "The following cell prints information related to the requirements. Please execute the cell and send the output to Andreas by **17 May**, including the concluding message!\n",
    "In case there are difficulties execution the cell, it should print information on how to fix the issue. If you think you have a package installed, but importing it in the next cell doesn't work, try reinstalling the package with `pip`."
   ]
  },
  {
   "cell_type": "code",
   "execution_count": 1,
   "metadata": {},
   "outputs": [
    {
     "name": "stdout",
     "output_type": "stream",
     "text": [
      "Python version 3.7.8\n",
      "Pandas version 1.1.2\n",
      "Matplotlib version 3.3.4\n",
      "Seaborn version 0.11.0\n",
      "\n",
      "Congratulations! You are set for the Pandas 🐼 course!\n",
      "\n"
     ]
    }
   ],
   "source": [
    "# Check for Python version\n",
    "import sys\n",
    "if sys.version_info[0] < 3:\n",
    "    raise Exception(\"You seem to be using Python 2! This tutorial needs Python 3. Please install Python 3 through your package manager.\")\n",
    "else:\n",
    "    print('Python version {}.{}.{}'.format(*sys.version_info))\n",
    "\n",
    "# Check for Pandas\n",
    "try:\n",
    "    import pandas as pd\n",
    "    print(f'Pandas version {pd.__version__}')\n",
    "except ImportError as e:\n",
    "    print(f'Error -- {e}! Please install Pandas with \"python3 -m pip install -U pandas\"')\n",
    "    \n",
    "# Check for Matplotlib\n",
    "try:\n",
    "    import matplotlib\n",
    "    print(f'Matplotlib version {matplotlib.__version__}')\n",
    "except ImportError as e:\n",
    "    print(f'Error -- {e}! Please install Matplotlib with \"python3 -m pip install -U matplotlib\"')\n",
    "\n",
    "# Check for Seaborn (optional)\n",
    "try:\n",
    "    import seaborn as sns\n",
    "    print(f'Seaborn version {sns.__version__}')\n",
    "except ImportError as e:\n",
    "    print(f'Error -- {e}! Please install Seaborn with \"python3 -m pip install -U seaborn\"')\n",
    "\n",
    "# Concluding welcome message\n",
    "import base64, binascii\n",
    "print('\\n' + base64.b64decode('Q29uZ3JhdHVsYXRpb25zISBZb3UgYXJlIHNldCBmb3IgdGhlIFBhbmRhcyDwn5C8IGNvdXJzZSEK').decode())"
   ]
  },
  {
   "cell_type": "code",
   "execution_count": null,
   "metadata": {},
   "outputs": [],
   "source": []
  }
 ],
 "metadata": {
  "kernelspec": {
   "display_name": "Python 3 unstable (using the module python3/unstable)",
   "language": "python",
   "name": "python3_unstable"
  },
  "language_info": {
   "codemirror_mode": {
    "name": "ipython",
    "version": 3
   },
   "file_extension": ".py",
   "mimetype": "text/x-python",
   "name": "python",
   "nbconvert_exporter": "python",
   "pygments_lexer": "ipython3",
   "version": "3.7.8"
  }
 },
 "nbformat": 4,
 "nbformat_minor": 4
}
